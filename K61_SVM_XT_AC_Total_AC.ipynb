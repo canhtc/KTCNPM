{
  "nbformat": 4,
  "nbformat_minor": 0,
  "metadata": {
    "colab": {
      "name": "K61: SVM_XT_AT_Total AT",
      "provenance": [],
      "collapsed_sections": [],
      "authorship_tag": "ABX9TyOUkYcxbxQOiM4GjjSRuN/s",
      "include_colab_link": true
    },
    "kernelspec": {
      "name": "python3",
      "display_name": "Python 3"
    }
  },
  "cells": [
    {
      "cell_type": "markdown",
      "metadata": {
        "id": "view-in-github",
        "colab_type": "text"
      },
      "source": [
        "<a href=\"https://colab.research.google.com/github/canhtc/KTCNPM/blob/master/K61_SVM_XT_AC_Total_AC.ipynb\" target=\"_parent\"><img src=\"https://colab.research.google.com/assets/colab-badge.svg\" alt=\"Open In Colab\"/></a>"
      ]
    },
    {
      "cell_type": "code",
      "metadata": {
        "id": "pSJJhQyRDSoV",
        "colab_type": "code",
        "colab": {
          "base_uri": "https://localhost:8080/",
          "height": 34
        },
        "outputId": "a17a1350-99ec-47da-9ba4-959fd47c3cfc"
      },
      "source": [
        "from google.colab import drive\n",
        "drive.mount('/content/driver')"
      ],
      "execution_count": 11,
      "outputs": [
        {
          "output_type": "stream",
          "text": [
            "Drive already mounted at /content/driver; to attempt to forcibly remount, call drive.mount(\"/content/driver\", force_remount=True).\n"
          ],
          "name": "stdout"
        }
      ]
    },
    {
      "cell_type": "code",
      "metadata": {
        "id": "HWpnZ40NDcXb",
        "colab_type": "code",
        "colab": {}
      },
      "source": [
        "\n",
        "import numpy as np\n",
        "from sklearn.svm import SVR \n",
        "from sklearn.metrics import mean_squared_error\n",
        "from sklearn.model_selection import GridSearchCV\n",
        "from sklearn import linear_model\n",
        "import matplotlib.pyplot as plt \n",
        "%matplotlib inline\n",
        "import pandas as pd \n",
        "from glob import glob"
      ],
      "execution_count": 12,
      "outputs": []
    },
    {
      "cell_type": "code",
      "metadata": {
        "id": "3Q11d9kWRhTH",
        "colab_type": "code",
        "colab": {}
      },
      "source": [
        "# path_train = '/content/driver/My Drive/Colab data/ktcnpm_data/vietnam_datasets/train/*.csv'\n",
        "# path_test = '/content/driver/My Drive/Colab data/ktcnpm_data/vietnam_datasets/test/data6.csv'\n",
        "\n",
        "path_train = '/content/driver/My Drive/Colab data/ktcnpm_data/k59/datacsv/train_k59/*.csv'\n",
        "path_test = '/content/driver/My Drive/Colab data/ktcnpm_data/k59/datacsv/test_k59/dataH.csv'\n",
        "\n",
        "# path_train = '/content/driver/My Drive/Colab data/ktcnpm_data/k60/datacsv/train/*.csv'\n",
        "# path_test = '/content/driver/My Drive/Colab data/ktcnpm_data/k60/datacsv/test/data_6.csv'\n",
        "\n",
        "# path_train = '/content/driver/My Drive/Colab data/ktcnpm_data/k61/train/*.csv'\n",
        "# path_test = '/content/driver/My Drive/Colab data/ktcnpm_data/k61/test/data_10.csv'"
      ],
      "execution_count": 13,
      "outputs": []
    },
    {
      "cell_type": "code",
      "metadata": {
        "id": "a8d3UdsJDk2M",
        "colab_type": "code",
        "colab": {
          "base_uri": "https://localhost:8080/",
          "height": 139
        },
        "outputId": "9ce5c7bc-0880-41a8-ff4e-2313b2907c4c"
      },
      "source": [
        "files = glob(path_train)\n",
        "x_input =[]\n",
        "y_output=[]\n",
        "print(files)\n",
        "for file in files:\n",
        "  data = pd.read_csv(file)\n",
        "  data_xt = data['XT'].values\n",
        "  data_at = data['AC'].values\n",
        "  data_total_at = data['TOTAL_AC'].values\n",
        "\n",
        "#dung de lay du lieu theo cap\n",
        "  data_input2D = []\n",
        "  data_output1D = []\n",
        "  steps = 3\n",
        "  \n",
        "  for i in range(0,len(data_xt)-steps+1):\n",
        "    temp_3D = []\n",
        "    for k in range(i, i+steps):\n",
        "      temp_2D = []\n",
        "      temp_2D.append(data_xt[k])\n",
        "      temp_2D.append(data_at[k])\n",
        "      \n",
        "      temp_3D.append(temp_2D)\n",
        "      data_output1D.append(data_total_at[k])\n",
        "\n",
        "    data_input2D.append(temp_3D)\n",
        "  x_input.append(data_input2D)\n",
        "  y_output.append(data_output1D)\n",
        "\n",
        "x_input = np.concatenate( x_input, axis=0 )\n",
        "y_output = np.concatenate( y_output, axis=0 )\n",
        "x_train = np.asarray(x_input)\n",
        "y_train = np.asarray(y_output)\n",
        "\n",
        "x_train = x_train.reshape((len(x_train)*3,2))\n",
        "y_train = y_train.reshape(-1,1)\n",
        "y_train = np.ravel(y_train)\n",
        "\n",
        "print(x_train.shape,y_train.shape)\n",
        "print(x_train[:4],y_train[:4])"
      ],
      "execution_count": 14,
      "outputs": [
        {
          "output_type": "stream",
          "text": [
            "['/content/driver/My Drive/Colab data/ktcnpm_data/k59/datacsv/train_k59/dataA.csv', '/content/driver/My Drive/Colab data/ktcnpm_data/k59/datacsv/train_k59/dataB.csv', '/content/driver/My Drive/Colab data/ktcnpm_data/k59/datacsv/train_k59/dataC.csv', '/content/driver/My Drive/Colab data/ktcnpm_data/k59/datacsv/train_k59/dataD.csv', '/content/driver/My Drive/Colab data/ktcnpm_data/k59/datacsv/train_k59/dataE.csv', '/content/driver/My Drive/Colab data/ktcnpm_data/k59/datacsv/train_k59/dataF.csv', '/content/driver/My Drive/Colab data/ktcnpm_data/k59/datacsv/train_k59/dataG.csv']\n",
            "(273, 2) (273,)\n",
            "[[ 0.13 46.04]\n",
            " [ 0.17 65.49]\n",
            " [ 0.24 79.21]\n",
            " [ 0.17 65.49]] [259.69 259.69 259.69 259.69]\n"
          ],
          "name": "stdout"
        }
      ]
    },
    {
      "cell_type": "code",
      "metadata": {
        "id": "peojtF8YNOHF",
        "colab_type": "code",
        "colab": {
          "base_uri": "https://localhost:8080/",
          "height": 918
        },
        "outputId": "9d507a55-4783-4bbc-82e0-3fedff0036d1"
      },
      "source": [
        "test = pd.read_csv(path_test)\n",
        "ip_test_xt = test['XT'].values \n",
        "ip_test_at = test['AC'].values\n",
        "test_output = test['TOTAL_AC'].values\n",
        "\n",
        "x_input=[]\n",
        "y_output =[]\n",
        "\n",
        "data_input2D = []\n",
        "data_output1D = []\n",
        "steps = 3\n",
        "\n",
        "for i in range(0,len(ip_test_xt)-steps+1):\n",
        "  temp_3D = []\n",
        "  for k in range(i, i+steps):\n",
        "    temp_2D = []\n",
        "    temp_2D.append(ip_test_xt[k])\n",
        "    temp_2D.append(ip_test_at[k])\n",
        "    \n",
        "    temp_3D.append(temp_2D)\n",
        "    data_output1D.append(test_output[k])\n",
        "\n",
        "  data_input2D.append(temp_3D)\n",
        "x_input.append(data_input2D)\n",
        "y_output.append(data_output1D)\n",
        "\n",
        "x_input = np.concatenate( x_input, axis=0)\n",
        "y_output = np.concatenate( y_output, axis=0)\n",
        "\n",
        "x_test = np.asarray(x_input)\n",
        "y_test = np.asarray(y_output)\n",
        "\n",
        "x_test = x_input.reshape((len(x_input)*3,2))\n",
        "y_test = y_test.reshape(-1,1)\n",
        "y_test = np.ravel(y_test)\n",
        "\n",
        "print(x_test.shape,y_test.shape)\n",
        "print(x_test, y_test)"
      ],
      "execution_count": 15,
      "outputs": [
        {
          "output_type": "stream",
          "text": [
            "(48, 2) (48,)\n",
            "[[1.6000e-01 1.7369e+02]\n",
            " [2.1000e-01 2.1994e+02]\n",
            " [2.6000e-01 2.6936e+02]\n",
            " [2.1000e-01 2.1994e+02]\n",
            " [2.6000e-01 2.6936e+02]\n",
            " [3.0000e-01 3.2039e+02]\n",
            " [2.6000e-01 2.6936e+02]\n",
            " [3.0000e-01 3.2039e+02]\n",
            " [3.6000e-01 3.6985e+02]\n",
            " [3.0000e-01 3.2039e+02]\n",
            " [3.6000e-01 3.6985e+02]\n",
            " [4.2000e-01 4.1468e+02]\n",
            " [3.6000e-01 3.6985e+02]\n",
            " [4.2000e-01 4.1468e+02]\n",
            " [4.7000e-01 4.8741e+02]\n",
            " [4.2000e-01 4.1468e+02]\n",
            " [4.7000e-01 4.8741e+02]\n",
            " [5.4000e-01 5.5553e+02]\n",
            " [4.7000e-01 4.8741e+02]\n",
            " [5.4000e-01 5.5553e+02]\n",
            " [6.1000e-01 6.2454e+02]\n",
            " [5.4000e-01 5.5553e+02]\n",
            " [6.1000e-01 6.2454e+02]\n",
            " [6.8000e-01 6.9023e+02]\n",
            " [6.1000e-01 6.2454e+02]\n",
            " [6.8000e-01 6.9023e+02]\n",
            " [7.4000e-01 7.5142e+02]\n",
            " [6.8000e-01 6.9023e+02]\n",
            " [7.4000e-01 7.5142e+02]\n",
            " [8.0000e-01 8.1065e+02]\n",
            " [7.4000e-01 7.5142e+02]\n",
            " [8.0000e-01 8.1065e+02]\n",
            " [8.5000e-01 8.5768e+02]\n",
            " [8.0000e-01 8.1065e+02]\n",
            " [8.5000e-01 8.5768e+02]\n",
            " [8.9000e-01 8.9862e+02]\n",
            " [8.5000e-01 8.5768e+02]\n",
            " [8.9000e-01 8.9862e+02]\n",
            " [9.2000e-01 9.3329e+02]\n",
            " [8.9000e-01 8.9862e+02]\n",
            " [9.2000e-01 9.3329e+02]\n",
            " [9.5000e-01 9.5485e+02]\n",
            " [9.2000e-01 9.3329e+02]\n",
            " [9.5000e-01 9.5485e+02]\n",
            " [9.8000e-01 9.6817e+02]\n",
            " [9.5000e-01 9.5485e+02]\n",
            " [9.8000e-01 9.6817e+02]\n",
            " [1.0000e+00 9.8992e+02]] [989.92 989.92 989.92 989.92 989.92 989.92 989.92 989.92 989.92 989.92\n",
            " 989.92 989.92 989.92 989.92 989.92 989.92 989.92 989.92 989.92 989.92\n",
            " 989.92 989.92 989.92 989.92 989.92 989.92 989.92 989.92 989.92 989.92\n",
            " 989.92 989.92 989.92 989.92 989.92 989.92 989.92 989.92 989.92 989.92\n",
            " 989.92 989.92 989.92 989.92 989.92 989.92 989.92 989.92]\n"
          ],
          "name": "stdout"
        }
      ]
    },
    {
      "cell_type": "code",
      "metadata": {
        "id": "3t6x2HZFgsg-",
        "colab_type": "code",
        "colab": {}
      },
      "source": [
        "gsc = GridSearchCV(\n",
        "        estimator=SVR(kernel='rbf'),\n",
        "        param_grid={\n",
        "            'C': [1e-5, 1e-4, 1e-3, 1e-2, 1e-1, 1, 1e2, 1e3, 1e4, 1e5],\n",
        "            'gamma': [1e-10, 1e-9, 1e-8, 1e-7, 1e-6, 1e-5, 1e-4, 1e-3, 1e-2, 1e-1, 1, 1e2, 1e3, 1e4, 1e5, 1e6, 1e7, 1e8, 1e9, 1e10]\n",
        "        },\n",
        "        cv=5, scoring='neg_mean_squared_error', verbose=0, n_jobs=-1)\n",
        "        # neg_root_mean_squared_error\n",
        "        # neg_mean_squared_error\n",
        "        # neg_mean_absolute_error"
      ],
      "execution_count": 16,
      "outputs": []
    },
    {
      "cell_type": "code",
      "metadata": {
        "id": "9scF2frrg4rw",
        "colab_type": "code",
        "colab": {
          "base_uri": "https://localhost:8080/",
          "height": 34
        },
        "outputId": "865c1650-9214-46a7-bdec-d8ab172c4e34"
      },
      "source": [
        "grid_result = gsc.fit(x_train, y_train)\n",
        "best_params = grid_result.best_params_\n",
        "print(best_params)\n",
        "best_svr = SVR(kernel='rbf', C=best_params[\"C\"], gamma=best_params[\"gamma\"])"
      ],
      "execution_count": 17,
      "outputs": [
        {
          "output_type": "stream",
          "text": [
            "{'C': 1000.0, 'gamma': 1e-06}\n"
          ],
          "name": "stdout"
        }
      ]
    },
    {
      "cell_type": "code",
      "metadata": {
        "id": "iZiruWunhCoH",
        "colab_type": "code",
        "colab": {
          "base_uri": "https://localhost:8080/",
          "height": 384
        },
        "outputId": "ef7073e2-09f2-4ce2-e612-0be7a6a87bed"
      },
      "source": [
        "from sklearn.metrics import mean_absolute_error, explained_variance_score\n",
        "\n",
        "best_svr.fit(x_train, y_train)\n",
        "\n",
        "result = best_svr.predict(x_test)\n",
        "print()\n",
        "test_output = y_test.reshape(result.size)\n",
        "plt.plot(result,'o', color='r')\n",
        "plt.plot(test_output,'x', color='b')\n",
        "plt.xlabel(\"STT\")\n",
        "plt.ylabel(\"Cost\")\n",
        "# print(\"actually: \",test_output)\n",
        "# print(\"model: \", result)\n",
        "\n",
        "plt.legend(('prediction', 'reality'),loc='upper right')\n",
        "plt.show()\n",
        "\n",
        "percent = []\n",
        "acc = 0\n",
        "\n",
        "for i in range(y_test.size):\n",
        "  p = (1- abs(y_test[i]-result[i])/test_output[i])*100\n",
        "  percent.append(p)\n",
        "  acc += p\n",
        "print(\"pecent: \", percent)\n",
        "print(\"accuracy: \", acc/(result.size))\n",
        "print(\"mean_squared_error: \", mean_squared_error(test_output,result))\n",
        "print(\"mean_absolute_error: \", mean_absolute_error(test_output,result))"
      ],
      "execution_count": 18,
      "outputs": [
        {
          "output_type": "stream",
          "text": [
            "\n"
          ],
          "name": "stdout"
        },
        {
          "output_type": "display_data",
          "data": {
            "image/png": "[encoded data removed]",
            "text/plain": [
              "<Figure size 432x288 with 1 Axes>"
            ]
          },
          "metadata": {
            "tags": [],
            "needs_background": "light"
          }
        },
        {
          "output_type": "stream",
          "text": [
            "pecent:  [32.40451906774871, 33.40616190125125, 35.37764752050164, 33.40616190125125, 35.37764752050164, 38.39021105263753, 35.37764752050164, 38.39021105263753, 42.233132495398436, 38.39021105263753, 42.233132495398436, 46.46228259883603, 42.233132495398436, 46.46228259883603, 54.69251873026275, 46.46228259883603, 54.69251873026275, 63.700373031006706, 54.69251873026275, 63.700373031006706, 73.78023843717725, 63.700373031006706, 73.78023843717725, 83.92322501106867, 73.78023843717725, 83.92322501106867, 93.5358102338765, 83.92322501106867, 93.5358102338765, 97.29254507727092, 93.5358102338765, 97.29254507727092, 90.27945008047567, 97.29254507727092, 90.27945008047567, 84.47486535509016, 90.27945008047567, 84.47486535509016, 79.83782335659411, 84.47486535509016, 79.83782335659411, 77.10341906550894, 79.83782335659411, 77.10341906550894, 75.47645551375611, 77.10341906550894, 75.47645551375611, 72.92832411626597]\n",
            "accuracy:  66.7989313364822\n",
            "mean_squared_error:  152697.2839888033\n",
            "mean_absolute_error:  328.6640189138954\n"
          ],
          "name": "stdout"
        }
      ]
    },
    {
      "cell_type": "code",
      "metadata": {
        "id": "DEr6e0LiQHVB",
        "colab_type": "code",
        "colab": {
          "base_uri": "https://localhost:8080/",
          "height": 1000
        },
        "outputId": "dde6234a-73ca-4bb5-c359-d92403f20e62"
      },
      "source": [
        "C_2d_range = [1e-5, 1e-4, 1e-3, 1e-2, 1e-1, 1, 1e2, 1e3, 1e4, 1e5]\n",
        "gamma_2d_range = [1e-10, 1e-9, 1e-8, 1e-7, 1e-6, 1e-5, 1e-4, 1e-3, 1e-2, 1e-1, 1, 1e2, 1e3, 1e4, 1e5, 1e6, 1e7, 1e8, 1e9, 1e10]\n",
        "classifiers = []\n",
        "\n",
        "for C in C_2d_range:\n",
        "    for gamma in gamma_2d_range:\n",
        "        clf = SVR(kernel='rbf', C=C, gamma=gamma)\n",
        "        clf.fit(x_train, y_train)\n",
        "        classifiers.append((C, gamma, clf))\n",
        "max_acc = 0\n",
        "best_C = 0\n",
        "best_gamma = 0\n",
        "\n",
        "for (k, (C, gamma, clf)) in enumerate(classifiers):\n",
        "  # print(C, gamma,clf.predict(x_test))\n",
        "  # print(C, gamma)\n",
        "  result = clf.predict(x_test)\n",
        "  acc = 0\n",
        "  for i in range(y_test.size):\n",
        "    acc += (1- abs(y_test[i]-result[i])/y_test[i])*100\n",
        "  print(acc / y_test.size)\n",
        "  if(max_acc!=max(max_acc,acc / y_test.size)):\n",
        "    max_acc = max(max_acc,acc / y_test.size)\n",
        "    best_C = C\n",
        "    best_gamma = gamma\n",
        "\n",
        "print(\"MAX acc:\", max_acc, \", BEST C: \",best_C, \", BEST_gamma: \", best_gamma)\n"
      ],
      "execution_count": 19,
      "outputs": [
        {
          "output_type": "stream",
          "text": [
            "53.463916279821966\n",
            "53.46391631364096\n",
            "53.463916650790715\n",
            "53.46391992034793\n",
            "53.463944568028715\n",
            "53.46398960763818\n",
            "53.4639630118755\n",
            "53.463931507731935\n",
            "53.46392170673468\n",
            "53.46391837999942\n",
            "53.463915917533136\n",
            "53.46391577097524\n",
            "53.46391577097137\n",
            "53.46391577097137\n",
            "53.46391577097137\n",
            "53.46391577097137\n",
            "53.46391577097137\n",
            "53.46391577097137\n",
            "53.46391577097137\n",
            "53.46391577097137\n",
            "53.46391631365511\n",
            "53.46391665184567\n",
            "53.46392002334255\n",
            "53.46395271891465\n",
            "53.46419919572221\n",
            "53.46464959181758\n",
            "53.464383634190646\n",
            "53.46406859275482\n",
            "53.46397058278242\n",
            "53.46393731542952\n",
            "53.46391269076699\n",
            "53.46391122518819\n",
            "53.4639112251495\n",
            "53.4639112251495\n",
            "53.4639112251495\n",
            "53.4639112251495\n",
            "53.4639112251495\n",
            "53.4639112251495\n",
            "53.4639112251495\n",
            "53.4639112251495\n",
            "53.46391665198673\n",
            "53.46392003389278\n",
            "53.46395374886064\n",
            "53.464280704581874\n",
            "53.46674547265824\n",
            "53.47124943361092\n",
            "53.468589857342785\n",
            "53.465439442983325\n",
            "53.46445934326014\n",
            "53.464126669730774\n",
            "53.46388042310573\n",
            "53.46386576731758\n",
            "53.46386576693066\n",
            "53.46386576693066\n",
            "53.46386576693066\n",
            "53.46386576693066\n",
            "53.46386576693066\n",
            "53.46386576693066\n",
            "53.46386576693066\n",
            "53.46386576693066\n",
            "53.4639200353029\n",
            "53.4639538543633\n",
            "53.46429100404225\n",
            "53.46756056125432\n",
            "53.490565840963995\n",
            "53.491480431720355\n",
            "53.48229924557404\n",
            "53.47917387200092\n",
            "53.46938614604975\n",
            "53.466022625435535\n",
            "53.463709529028655\n",
            "53.46333903385581\n",
            "53.46333902883925\n",
            "53.46333902883925\n",
            "53.46333902883925\n",
            "53.46333902883925\n",
            "53.46333902883925\n",
            "53.46333902883925\n",
            "53.46333902883925\n",
            "53.46333902883925\n",
            "53.46395386846432\n",
            "53.464292059068526\n",
            "53.4676635558582\n",
            "53.493779134566644\n",
            "53.588608728036895\n",
            "53.65049134835678\n",
            "53.48097206810139\n",
            "53.47993825751959\n",
            "53.477242591269466\n",
            "53.47382920560661\n",
            "53.46186993372641\n",
            "53.458143853994095\n",
            "53.45814380382826\n",
            "53.45814380382826\n",
            "53.45814380382826\n",
            "53.45814380382826\n",
            "53.45814380382826\n",
            "53.45814380382826\n",
            "53.45814380382826\n",
            "53.45814380382826\n",
            "53.464292200078255\n",
            "53.46767410612072\n",
            "53.49408526926294\n",
            "53.62218055474108\n",
            "54.60874608176517\n",
            "55.23875056131218\n",
            "53.4861753822594\n",
            "53.44230741336605\n",
            "53.490432473019645\n",
            "53.495843113815084\n",
            "53.43241237170694\n",
            "53.40619205537635\n",
            "53.40619155371861\n",
            "53.40619155371861\n",
            "53.40619155371861\n",
            "53.40619155371861\n",
            "53.40619155371861\n",
            "53.40619155371861\n",
            "53.40619155371861\n",
            "53.40619155371861\n",
            "53.49411500617111\n",
            "53.62634824186161\n",
            "54.9823883327052\n",
            "67.51993385651662\n",
            "69.58102464450259\n",
            "65.27526506640764\n",
            "71.08190772181307\n",
            "74.18193724593365\n",
            "70.6849383454523\n",
            "64.11041851739243\n",
            "55.86554794920438\n",
            "53.09991046964118\n",
            "52.88440119713201\n",
            "52.88338207303801\n",
            "52.88338207303801\n",
            "52.88338207303801\n",
            "52.88338207303801\n",
            "52.88338207303801\n",
            "52.88338207303801\n",
            "52.88338207303801\n",
            "53.626391635447355\n",
            "54.986389794476786\n",
            "68.15857889984893\n",
            "72.3157857597873\n",
            "66.7989313364822\n",
            "61.70881812119821\n",
            "64.34784502145716\n",
            "69.74910932014232\n",
            "70.83205243193429\n",
            "67.40168583518634\n",
            "64.79210695956817\n",
            "62.522694170612944\n",
            "62.31486321423562\n",
            "62.313866632801506\n",
            "62.313866632801506\n",
            "62.313866632801506\n",
            "62.313866632801506\n",
            "62.313866632801506\n",
            "62.313866632801506\n",
            "62.313866632801506\n",
            "54.986871899636014\n",
            "68.16584579464623\n",
            "72.83316926303566\n",
            "70.19335841766639\n",
            "65.88184073141849\n",
            "61.947399903061864\n",
            "64.92837766670881\n",
            "62.73259307451775\n",
            "72.24459009113868\n",
            "67.96489274458925\n",
            "64.76857697961087\n",
            "62.522694170612944\n",
            "62.31486321423562\n",
            "62.313866632801506\n",
            "62.313866632801506\n",
            "62.313866632801506\n",
            "62.313866632801506\n",
            "62.313866632801506\n",
            "62.313866632801506\n",
            "62.313866632801506\n",
            "68.16863928990999\n",
            "72.92309295782643\n",
            "72.08099734743348\n",
            "69.21645044997969\n",
            "66.37031652189262\n",
            "63.60687953955817\n",
            "67.64604127843138\n",
            "36.51985401123049\n",
            "78.57568301293388\n",
            "67.29117565144627\n",
            "64.76857697961087\n",
            "62.522694170612944\n",
            "62.31486321423562\n",
            "62.313866632801506\n",
            "62.313866632801506\n",
            "62.313866632801506\n",
            "62.313866632801506\n",
            "62.313866632801506\n",
            "62.313866632801506\n",
            "62.313866632801506\n",
            "MAX acc: 78.57568301293388 , BEST C:  100000.0 , BEST_gamma:  0.01\n"
          ],
          "name": "stdout"
        }
      ]
    },
    {
      "cell_type": "code",
      "metadata": {
        "id": "C99V7A76PP09",
        "colab_type": "code",
        "colab": {
          "base_uri": "https://localhost:8080/",
          "height": 384
        },
        "outputId": "98ec56c6-3009-4bce-d998-757152641c41"
      },
      "source": [
        "from sklearn.metrics import mean_absolute_error\n",
        "model = SVR(kernel='rbf', C=best_C, gamma=best_gamma)\n",
        "\n",
        "model.fit(x_train, y_train)\n",
        "result = model.predict(x_test)\n",
        "\n",
        "test_output = y_test.reshape(result.size)\n",
        "plt.plot(result,'o', color='r')\n",
        "plt.plot(test_output,'x', color='b')\n",
        "plt.xlabel(\"STT\")\n",
        "plt.ylabel(\"Cost\")\n",
        "# print(\"actually: \",test_output)\n",
        "# print(\"model: \", result)\n",
        "\n",
        "plt.legend(('prediction', 'reality'),loc='upper right')\n",
        "plt.show()\n",
        "\n",
        "percent = []\n",
        "acc = 0\n",
        "\n",
        "for i in range(y_test.size):\n",
        "  p = (1- abs(y_test[i]-result[i])/test_output[i])*100\n",
        "  percent.append(p)\n",
        "  acc += p\n",
        "print(\"pecent: \", percent)\n",
        "print(\"accuracy: \", acc/(result.size))\n",
        "\n",
        "print(\"mean_squared_error: \", mean_squared_error(test_output,result))\n",
        "print(\"mean_absolute_error: \", mean_absolute_error(test_output,result))\n",
        "print(\"mean_absolute_error: \", mean_absolute_error(test_output,result))"
      ],
      "execution_count": 20,
      "outputs": [
        {
          "output_type": "display_data",
          "data": {
            "image/png": "[encoded data removed]",
            "text/plain": [
              "<Figure size 432x288 with 1 Axes>"
            ]
          },
          "metadata": {
            "tags": [],
            "needs_background": "light"
          }
        },
        {
          "output_type": "stream",
          "text": [
            "pecent:  [96.26042441950521, 72.80980655882476, 66.9487933798044, 72.80980655882476, 66.9487933798044, 74.97305102571418, 66.9487933798044, 74.97305102571418, 93.40291142434522, 74.97305102571418, 93.40291142434522, 51.45225550830239, 93.40291142434522, 51.45225550830239, 56.60410733300252, 51.45225550830239, 56.60410733300252, 82.27159931721806, 56.60410733300252, 82.27159931721806, 87.0051640683708, 82.27159931721806, 87.0051640683708, 72.05996177791837, 87.0051640683708, 72.05996177791837, 93.7715603022817, 72.05996177791837, 93.7715603022817, 93.5301373236645, 93.7715603022817, 93.5301373236645, 84.43663952981785, 93.5301373236645, 84.43663952981785, 65.33925072676784, 84.43663952981785, 65.33925072676784, 90.18565855573073, 65.33925072676784, 90.18565855573073, 97.82318118047714, 90.18565855573073, 97.82318118047714, 57.79846707191296, 97.82318118047714, 57.79846707191296, 84.7429985796002]\n",
            "accuracy:  78.57568301293388\n",
            "mean_squared_error:  65251.14117060064\n",
            "mean_absolute_error:  212.08359871836456\n",
            "mean_absolute_error:  212.08359871836456\n"
          ],
          "name": "stdout"
        }
      ]
    }
  ]
}